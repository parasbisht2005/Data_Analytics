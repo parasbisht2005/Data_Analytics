{
 "cells": [
  {
   "cell_type": "code",
   "execution_count": null,
   "id": "79ae1e49-0819-4782-9c54-0c64d2226cd2",
   "metadata": {},
   "outputs": [],
   "source": [
    "import pandas as pd\n",
    "import matplotlib.pyplot as plt\n",
    "import seaborn as sns"
   ]
  },
  {
   "cell_type": "code",
   "execution_count": null,
   "id": "a0884d34-84fa-4bb0-97b5-4f92dcb958b7",
   "metadata": {},
   "outputs": [],
   "source": [
    "df=pd.read_csv(\"data.csv\")"
   ]
  },
  {
   "cell_type": "code",
   "execution_count": null,
   "id": "cde1c8f4-2fe5-47d9-bf68-36f25f7c28fe",
   "metadata": {},
   "outputs": [],
   "source": [
    "df"
   ]
  },
  {
   "cell_type": "code",
   "execution_count": null,
   "id": "f0cd7876-f3c6-4db4-a5cf-b4ab424aa19e",
   "metadata": {},
   "outputs": [],
   "source": [
    "df.info()"
   ]
  },
  {
   "cell_type": "code",
   "execution_count": null,
   "id": "7e8f02d3-a31e-44a6-8baf-66eb1772a8d0",
   "metadata": {},
   "outputs": [],
   "source": [
    "df.fillna({\n",
    "    'Engine Fuel Type': df['Engine Fuel Type'].mode()[0],\n",
    "    'Engine HP': df['Engine HP'].median(),\n",
    "    'Engine Cylinders': df['Engine Cylinders'].median(),\n",
    "    'Number of Doors': df['Number of Doors'].median(),\n",
    "    'Market Category': 'Unknown'\n",
    "}, inplace=True)"
   ]
  },
  {
   "cell_type": "code",
   "execution_count": null,
   "id": "45143bbf-b19d-42ae-acb7-786ec9398b2e",
   "metadata": {},
   "outputs": [],
   "source": [
    "# Drop duplicates\n",
    "df.drop_duplicates(inplace=True)  "
   ]
  },
  {
   "cell_type": "code",
   "execution_count": null,
   "id": "25c78ecb-5bf2-4685-b8b5-88feb3e28473",
   "metadata": {},
   "outputs": [],
   "source": [
    "# --- Exploratory Data Analysis (EDA) ---\n",
    "print(\"Basic Info:\")\n",
    "print(df.info())\n",
    "print(\"\\nSummary Statistics:\")\n",
    "print(df.describe())"
   ]
  },
  {
   "cell_type": "code",
   "execution_count": null,
   "id": "905cf97f-370a-4c60-b352-3a13aa424ebe",
   "metadata": {},
   "outputs": [],
   "source": [
    "# --- Visualizations ---\n",
    "sns.set(style=\"whitegrid\")"
   ]
  },
  {
   "cell_type": "code",
   "execution_count": null,
   "id": "0f81638c-152c-4758-a188-0a1cd91c8b0c",
   "metadata": {},
   "outputs": [],
   "source": [
    "# Price distribution\n",
    "plt.figure(figsize=(8, 5))\n",
    "sns.histplot(df['MSRP'], bins=50, kde=True)\n",
    "plt.title(\"MSRP Distribution\")\n",
    "plt.xlabel(\"Price ($)\")\n",
    "plt.ylabel(\"Frequency\")\n",
    "plt.xlim(0, 100000)  # Limit price range for better visualization\n",
    "plt.show()"
   ]
  },
  {
   "cell_type": "code",
   "execution_count": null,
   "id": "73742d72-118f-43ae-be22-fe570f8aceb9",
   "metadata": {},
   "outputs": [],
   "source": [
    "# Fuel efficiency vs price\n",
    "plt.figure(figsize=(8, 5))\n",
    "sns.scatterplot(x=df['city mpg'], y=df['MSRP'], alpha=0.5)\n",
    "plt.title(\"City MPG vs MSRP\")\n",
    "plt.xlabel(\"City MPG\")\n",
    "plt.ylabel(\"Price ($)\")\n",
    "plt.ylim(0, 100000)\n",
    "plt.show()"
   ]
  },
  {
   "cell_type": "code",
   "execution_count": null,
   "id": "5e19456e-1909-411a-8d7f-53152e252c5d",
   "metadata": {},
   "outputs": [],
   "source": [
    "# Popular car brands\n",
    "plt.figure(figsize=(10, 5))\n",
    "top_brands = df['Make'].value_counts().nlargest(10)\n",
    "sns.barplot(x=top_brands.index, y=top_brands.values)\n",
    "plt.title(\"Top 10 Most Popular Car Brands\")\n",
    "plt.xlabel(\"Brand\")\n",
    "plt.ylabel(\"Count\")\n",
    "plt.xticks(rotation=45)\n",
    "plt.show()\n"
   ]
  },
  {
   "cell_type": "code",
   "execution_count": null,
   "id": "e49051a6-db80-4e97-a250-137c5b92ded7",
   "metadata": {},
   "outputs": [],
   "source": [
    "# Correlation heatmap (Only numeric columns)\n",
    "plt.figure(figsize=(10, 6))\n",
    "sns.heatmap(df.select_dtypes(include=['number']).corr(), annot=True, cmap=\"coolwarm\", fmt='.2f')\n",
    "plt.title(\"Feature Correlation Heatmap\")\n",
    "plt.show()\n"
   ]
  },
  {
   "cell_type": "code",
   "execution_count": null,
   "id": "6409bade-ab55-47da-b9af-92b8dc312f3e",
   "metadata": {},
   "outputs": [],
   "source": [
    "# Additional Insights\n",
    "print(\"Top 5 Most Popular Car Brands:\")\n",
    "print(df['Make'].value_counts().head())"
   ]
  },
  {
   "cell_type": "code",
   "execution_count": null,
   "id": "92000b15-96e1-41de-9ebe-de648040cb31",
   "metadata": {},
   "outputs": [],
   "source": [
    "print(\"Average MSRP by Vehicle Size:\")\n",
    "print(df.groupby(\"Vehicle Size\")['MSRP'].mean())"
   ]
  },
  {
   "cell_type": "code",
   "execution_count": null,
   "id": "e9d222cd-4c0a-4039-b866-fb9315825a93",
   "metadata": {},
   "outputs": [],
   "source": []
  }
 ],
 "metadata": {
  "kernelspec": {
   "display_name": "Python 3 (ipykernel)",
   "language": "python",
   "name": "python3"
  },
  "language_info": {
   "codemirror_mode": {
    "name": "ipython",
    "version": 3
   },
   "file_extension": ".py",
   "mimetype": "text/x-python",
   "name": "python",
   "nbconvert_exporter": "python",
   "pygments_lexer": "ipython3",
   "version": "3.12.0"
  }
 },
 "nbformat": 4,
 "nbformat_minor": 5
}
